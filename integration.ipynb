{
 "cells": [
  {
   "cell_type": "code",
   "execution_count": 1,
   "id": "e9c94436",
   "metadata": {},
   "outputs": [],
   "source": [
    "import os\n",
    "from pinecone import Pinecone,ServerlessSpec\n",
    "from dotenv import load_dotenv\n",
    "import time\n",
    "\n",
    "\n",
    "load_dotenv()\n",
    "\n",
    "\n",
    "# Pinecone Configuration\n",
    "api_key=os.getenv(\"PINECONE_API_KEY\")\n",
    "pc=Pinecone(api_key=api_key)\n",
    "\n",
    "spec=ServerlessSpec(\n",
    "    cloud=\"aws\",region=\"us-east-1\"\n",
    ")\n",
    "\n",
    "index_name=\"shop-product-catalog\"\n",
    "\n",
    "# connect to the index \n",
    "myindex=pc.Index(index_name)\n",
    "time.sleep(1)"
   ]
  },
  {
   "cell_type": "code",
   "execution_count": 3,
   "id": "65230528",
   "metadata": {},
   "outputs": [],
   "source": [
    "from langchain_google_genai import GoogleGenerativeAIEmbeddings\n",
    "\n",
    "load_dotenv()\n",
    "\n",
    "\n",
    "# Google GenAI API\n",
    "os.environ[\"GOOGLE_API_KEY\"]=os.getenv(\"GOOGLE_API_KEY\")\n",
    "embed_model=GoogleGenerativeAIEmbeddings(model=\"models/embedding-001\")"
   ]
  },
  {
   "cell_type": "code",
   "execution_count": 4,
   "id": "4a4c1d08",
   "metadata": {},
   "outputs": [],
   "source": [
    "from langchain_pinecone import PineconeVectorStore\n",
    "\n",
    "vectorstore=PineconeVectorStore(\n",
    "    index=myindex,\n",
    "    embedding=embed_model,\n",
    "    text_key='Description'\n",
    ")"
   ]
  },
  {
   "cell_type": "code",
   "execution_count": 5,
   "id": "138ba10e",
   "metadata": {},
   "outputs": [
    {
     "data": {
      "text/plain": [
       "[Document(id='1042', metadata={'Gender': 'Men', 'Price': '11999', 'PrimaryColor': 'Black', 'ProductBrand': 'Adidas', 'ProductName': 'Superstar Bold 2'}, page_content='Classic basketball shoes with a modern twist and bold design')]"
      ]
     },
     "execution_count": 5,
     "metadata": {},
     "output_type": "execute_result"
    }
   ],
   "source": [
    "query=\"What is the price of Superstar Bold 2 product?\"\n",
    "\n",
    "vectorstore.similarity_search(\n",
    "    query,\n",
    "    k=1\n",
    ")\n"
   ]
  },
  {
   "cell_type": "code",
   "execution_count": 6,
   "id": "7ba2ce58",
   "metadata": {},
   "outputs": [],
   "source": [
    "import os\n",
    "import google.generativeai as genai\n",
    "\n",
    "load_dotenv()\n",
    "\n",
    "chat_history=[]\n",
    "\n",
    "\n",
    "system_message=(\n",
    "     \"If a query lacks a direct answer e.g. durability, generate a response based on related features. \"\n",
    "    \"You are a helpful and respectful shop assistant who answers queries relevant only to the shop. \"\n",
    "    \"Please answer all questions politely. Use a conversational tone, like you're chatting with someone, \"\n",
    "    \"not like you're writing an email. If the user asks about anything outside of the shop data like if they ask \"\n",
    "    \"something irrelevant, simply say, 'I can only provide answers related to the shop, sir.\")"
   ]
  },
  {
   "cell_type": "code",
   "execution_count": 7,
   "id": "fd9b03d6",
   "metadata": {},
   "outputs": [],
   "source": [
    "def gen_answer(system_message,chat_history,prompt):\n",
    "    genai.configure(api_key=os.getenv(\"GOOGLE_API_KEY\"))\n",
    "    model=genai.GenerativeModel('gemini-1.5-flash')\n",
    "\n",
    "    # append prompt to chat history\n",
    "    chat_history.append(f\"User: {prompt}\")\n",
    "\n",
    "    # combine system message to chat history\n",
    "    full_prompt=f\"{system_message}\\n\\n\" + \"\\n\".join(chat_history)+\"\\nAssistant:\"\n",
    "\n",
    "    # gen response\n",
    "    response=model.generate_content(full_prompt).text\n",
    "    chat_history.append(f\"Assistant: {response}\")\n",
    "\n",
    "    return response"
   ]
  },
  {
   "cell_type": "code",
   "execution_count": 8,
   "id": "837fa9e1",
   "metadata": {},
   "outputs": [],
   "source": [
    "def get_relevant_chunk(query,vectorstore):\n",
    "    results=vectorstore.similarity_search(query,k=1)\n",
    "    if results:\n",
    "        metadata=results[0].metadata\n",
    "        context=(\n",
    "            f\"Product Name: {metadata.get('ProductName','Not Available')}\\n\"\n",
    "            f\"Brand: {metadata.get('Brand','Not Available')}\\n\"\n",
    "            f\"Price: {metadata.get('Price','Not Available')}\\n\"\n",
    "            f\"Color: {metadata.get('Color','Not Available')}\\n\"\n",
    "            f\"Description: {results[0].page_content}\"\n",
    "        )\n",
    "        return context\n",
    "    return \"No relevant search\"\n",
    "\n",
    "\n",
    "def make_prompt(query,context):\n",
    "    return f\"Query: {query}\\n\\nContext:\\n{context}\\n\\nAnswer:\""
   ]
  },
  {
   "cell_type": "code",
   "execution_count": 9,
   "id": "7d637f20",
   "metadata": {},
   "outputs": [
    {
     "name": "stdout",
     "output_type": "stream",
     "text": [
      "Answer: The Superstar Bold 2 is priced at 11999.  Anything else I can help you with today?\n",
      "\n",
      "Oh, you're asking about the Stan Smith's design?  They're a classic tennis shoe with a really minimalist look.  Very simple and clean design, if you know what I mean.  Anything else I can help you with regarding the Stan Smith or other products?\n",
      "\n"
     ]
    }
   ],
   "source": [
    "def main():\n",
    "    query=\"What is the price of Superstar Bold 2 product? \"\n",
    "    relevant_text=get_relevant_chunk(query,vectorstore)\n",
    "    prompt=make_prompt(query,relevant_text)\n",
    "\n",
    "    answer=gen_answer(system_message,chat_history,prompt)\n",
    "    print(\"Answer:\",answer)\n",
    "\n",
    "    query2=\"Can you tell me about the  design of this product?\"\n",
    "    relevant_text2=get_relevant_chunk(query2,vectorstore)\n",
    "    prompt2=make_prompt(query2,relevant_text2)\n",
    "    answer2=gen_answer(system_message,chat_history,prompt2)\n",
    "    print(answer2)\n",
    "\n",
    "\n",
    "if __name__==\"__main__\":\n",
    "    main()"
   ]
  }
 ],
 "metadata": {
  "kernelspec": {
   "display_name": "env1",
   "language": "python",
   "name": "python3"
  },
  "language_info": {
   "codemirror_mode": {
    "name": "ipython",
    "version": 3
   },
   "file_extension": ".py",
   "mimetype": "text/x-python",
   "name": "python",
   "nbconvert_exporter": "python",
   "pygments_lexer": "ipython3",
   "version": "3.12.1"
  }
 },
 "nbformat": 4,
 "nbformat_minor": 5
}
